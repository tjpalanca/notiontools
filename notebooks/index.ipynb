{
 "cells": [
  {
   "cell_type": "markdown",
   "metadata": {},
   "source": [
    "# Notion Tools"
   ]
  },
  {
   "cell_type": "markdown",
   "metadata": {},
   "source": [
    "> Tools for working with Notion"
   ]
  },
  {
   "cell_type": "markdown",
   "metadata": {},
   "source": [
    "## Motivation \n",
    "\n",
    "The goal of this project is to provide some utilities for working with particularly for reading, synthesizing, and writing down coalesced thoughts.\n",
    "\n",
    "## Features\n",
    "\n",
    "* Send Kindle highlights to Notion"
   ]
  }
 ],
 "metadata": {},
 "nbformat": 4,
 "nbformat_minor": 2
}

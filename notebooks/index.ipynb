{
 "cells": [
  {
   "cell_type": "markdown",
   "metadata": {},
   "source": [
    "# Notion Tools"
   ]
  },
  {
   "cell_type": "markdown",
   "metadata": {},
   "source": [
    "> Tools for working with Notion"
   ]
  },
  {
   "cell_type": "markdown",
   "metadata": {},
   "source": [
    "## Motivation \n",
    "\n",
    "The goal of this project is to provide some utilities for working with particularly for reading, synthesizing, and writing down coalesced thoughts.\n",
    "\n",
    "## Features\n",
    "\n",
    "* Send Kindle highlights to Notion"
   ]
  }
 ],
 "metadata": {
  "kernelspec": {
   "display_name": ".venv",
   "language": "python",
   "name": "python3"
  },
  "language_info": {
   "name": "python",
   "version": "3.11.1"
  },
  "vscode": {
   "interpreter": {
    "hash": "be025bf3d2bafb8a9faf32b6f7f568c332f8574e3a664392e694e95a305607c4"
   }
  }
 },
 "nbformat": 4,
 "nbformat_minor": 2
}

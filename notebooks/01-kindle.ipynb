{
 "cells": [
  {
   "attachments": {},
   "cell_type": "markdown",
   "metadata": {},
   "source": [
    "# Kindle\n",
    "\n",
    "> Kindle is my main e-book reading device. I want to import highlights and notes that I make on my Kindle into Notion, in a nice format."
   ]
  },
  {
   "cell_type": "code",
   "execution_count": 2,
   "metadata": {},
   "outputs": [],
   "source": [
    "# | default_exp kindle\n",
    "# | export\n",
    "\n",
    "import smtplib"
   ]
  }
 ],
 "metadata": {
  "kernelspec": {
   "display_name": ".venv",
   "language": "python",
   "name": "python3"
  },
  "language_info": {
   "codemirror_mode": {
    "name": "ipython",
    "version": 3
   },
   "file_extension": ".py",
   "mimetype": "text/x-python",
   "name": "python",
   "nbconvert_exporter": "python",
   "pygments_lexer": "ipython3",
   "version": "3.11.1"
  },
  "orig_nbformat": 4,
  "vscode": {
   "interpreter": {
    "hash": "be025bf3d2bafb8a9faf32b6f7f568c332f8574e3a664392e694e95a305607c4"
   }
  }
 },
 "nbformat": 4,
 "nbformat_minor": 2
}
